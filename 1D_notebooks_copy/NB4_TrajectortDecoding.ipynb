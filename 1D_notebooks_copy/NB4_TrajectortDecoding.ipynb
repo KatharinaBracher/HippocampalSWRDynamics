{
 "cells": [
  {
   "cell_type": "code",
   "execution_count": 1,
   "id": "cbb36f5b-15db-48a1-893c-bdfba561c5f1",
   "metadata": {
    "tags": []
   },
   "outputs": [],
   "source": [
    "import numpy as np\n",
    "import matplotlib.pyplot as plt\n",
    "import importlib\n",
    "import os\n",
    "import pickle\n",
    "import scipy.io as spio\n",
    "import scipy.stats as sp\n",
    "import mat73\n",
    "import seaborn as sns\n",
    "from scipy.special import factorial\n",
    "from scipy.special import logsumexp\n",
    "import pandas as pd\n",
    "from replay_structure.utils import get_marginal_sum"
   ]
  },
  {
   "cell_type": "code",
   "execution_count": 2,
   "id": "276c0f31-fbe0-419f-9329-b74b5dac2a16",
   "metadata": {
    "tags": []
   },
   "outputs": [],
   "source": [
    "from replay_structure.structure_trajectory import Most_Likely_Trajectories\n",
    "import replay_structure.structure_models as models"
   ]
  },
  {
   "cell_type": "code",
   "execution_count": 3,
   "id": "96947d56-f2a9-4096-81d9-e2c4664f46d8",
   "metadata": {
    "tags": []
   },
   "outputs": [],
   "source": [
    "import replay_structure.structure_models_gridsearch as gridsearch\n",
    "from replay_structure.config import (\n",
    "    Structure_Model_Gridsearch_Parameters)\n",
    "from replay_structure.model_comparison import (\n",
    "    Gridsearch_Marginalization,\n",
    "    Model_Comparison,\n",
    ")"
   ]
  },
  {
   "cell_type": "code",
   "execution_count": 34,
   "id": "ebb91ed9-1ebd-46b1-851a-6ae885f01c35",
   "metadata": {
    "tags": []
   },
   "outputs": [],
   "source": [
    "pd.set_option('display.max_rows', None)"
   ]
  },
  {
   "cell_type": "code",
   "execution_count": 4,
   "id": "6e10f447-246c-4a34-8bb0-2015e10b87ed",
   "metadata": {
    "tags": []
   },
   "outputs": [],
   "source": [
    "%load_ext autoreload\n",
    "%autoreload 2"
   ]
  },
  {
   "cell_type": "markdown",
   "id": "c53da6b9-741f-4629-be13-fd0c2b33a466",
   "metadata": {},
   "source": [
    "## load data"
   ]
  },
  {
   "cell_type": "code",
   "execution_count": 141,
   "id": "ea2f6b5c-b66f-4b47-b525-0cb1f40878ca",
   "metadata": {
    "tags": []
   },
   "outputs": [],
   "source": [
    "bin_size_cm=5\n",
    "time_window_ms=15"
   ]
  },
  {
   "cell_type": "code",
   "execution_count": 142,
   "id": "59003da2-b65b-4f0b-af11-52e7786f773a",
   "metadata": {
    "tags": []
   },
   "outputs": [],
   "source": [
    "DATA_PATH = \"/home/masha/Documents/Studium/MIT/project/data_test\"\n",
    "filename = DATA_PATH+'/structure_analysis_input/ripple_spikemat_'+str(bin_size_cm)+'cm_'+str(time_window_ms)+'ms_poisson.obj'\n",
    "\n",
    "RESULTS_PATH = \"/home/masha/Documents/Studium/MIT/project/1D/results_test/\"\n",
    "d_gs_result = RESULTS_PATH+'ripple_marginalized_gridsearch_diffusion_'+str(bin_size_cm)+'cm_'+str(time_window_ms)+'ms_poisson.obj'\n",
    "mc = RESULTS_PATH+'ripple_model_comparison_'+str(bin_size_cm)+'cm_'+str(time_window_ms)+'ms_poisson.obj'"
   ]
  },
  {
   "cell_type": "code",
   "execution_count": 143,
   "id": "64b93e28-6845-4df7-ae83-387be124ce42",
   "metadata": {
    "tags": []
   },
   "outputs": [],
   "source": [
    "with open(filename, \"rb\") as file_object:\n",
    "    raw_data = file_object.read()\n",
    "    structure_data = pickle.loads(raw_data)"
   ]
  },
  {
   "cell_type": "code",
   "execution_count": 21,
   "id": "6c96afcd-19b2-4cb8-a637-cbf0108b4314",
   "metadata": {
    "tags": []
   },
   "outputs": [],
   "source": [
    "with open(d_gs_result, \"rb\") as file_object:\n",
    "    raw_data = file_object.read()\n",
    "    diffusion_result = pickle.loads(raw_data)"
   ]
  },
  {
   "cell_type": "code",
   "execution_count": 16,
   "id": "4cb056ff-bee3-4259-8f8d-15ea0d540313",
   "metadata": {
    "tags": []
   },
   "outputs": [],
   "source": [
    "with open(mc, \"rb\") as file_object:\n",
    "    raw_data = file_object.read()\n",
    "    model_comparison = pickle.loads(raw_data)"
   ]
  },
  {
   "cell_type": "code",
   "execution_count": 125,
   "id": "b7700c29-d35a-4bd7-90e9-76cd1c446501",
   "metadata": {
    "tags": []
   },
   "outputs": [
    {
     "data": {
      "text/html": [
       "<div>\n",
       "<style scoped>\n",
       "    .dataframe tbody tr th:only-of-type {\n",
       "        vertical-align: middle;\n",
       "    }\n",
       "\n",
       "    .dataframe tbody tr th {\n",
       "        vertical-align: top;\n",
       "    }\n",
       "\n",
       "    .dataframe thead th {\n",
       "        text-align: right;\n",
       "    }\n",
       "</style>\n",
       "<table border=\"1\" class=\"dataframe\">\n",
       "  <thead>\n",
       "    <tr style=\"text-align: right;\">\n",
       "      <th></th>\n",
       "      <th>diffusion</th>\n",
       "      <th>momentum</th>\n",
       "      <th>stationary</th>\n",
       "      <th>stationary_gaussian</th>\n",
       "      <th>random</th>\n",
       "      <th>mll_model</th>\n",
       "    </tr>\n",
       "  </thead>\n",
       "  <tbody>\n",
       "    <tr>\n",
       "      <th>0</th>\n",
       "      <td>-41.552481</td>\n",
       "      <td>-42.345086</td>\n",
       "      <td>-42.085101</td>\n",
       "      <td>-41.401338</td>\n",
       "      <td>-42.421778</td>\n",
       "      <td>stationary_gaussian</td>\n",
       "    </tr>\n",
       "    <tr>\n",
       "      <th>1</th>\n",
       "      <td>-57.927742</td>\n",
       "      <td>-58.035193</td>\n",
       "      <td>-57.853174</td>\n",
       "      <td>-58.165446</td>\n",
       "      <td>-61.612448</td>\n",
       "      <td>stationary</td>\n",
       "    </tr>\n",
       "    <tr>\n",
       "      <th>2</th>\n",
       "      <td>-126.740406</td>\n",
       "      <td>-124.917018</td>\n",
       "      <td>-167.520693</td>\n",
       "      <td>-138.219128</td>\n",
       "      <td>-135.141291</td>\n",
       "      <td>momentum</td>\n",
       "    </tr>\n",
       "    <tr>\n",
       "      <th>3</th>\n",
       "      <td>-45.091940</td>\n",
       "      <td>-44.404269</td>\n",
       "      <td>-45.954521</td>\n",
       "      <td>-45.548904</td>\n",
       "      <td>-48.749530</td>\n",
       "      <td>momentum</td>\n",
       "    </tr>\n",
       "    <tr>\n",
       "      <th>4</th>\n",
       "      <td>-41.708810</td>\n",
       "      <td>-41.790453</td>\n",
       "      <td>-41.534081</td>\n",
       "      <td>-41.790942</td>\n",
       "      <td>-42.813049</td>\n",
       "      <td>stationary</td>\n",
       "    </tr>\n",
       "  </tbody>\n",
       "</table>\n",
       "</div>"
      ],
      "text/plain": [
       "    diffusion    momentum  stationary  stationary_gaussian      random  \\\n",
       "0  -41.552481  -42.345086  -42.085101           -41.401338  -42.421778   \n",
       "1  -57.927742  -58.035193  -57.853174           -58.165446  -61.612448   \n",
       "2 -126.740406 -124.917018 -167.520693          -138.219128 -135.141291   \n",
       "3  -45.091940  -44.404269  -45.954521           -45.548904  -48.749530   \n",
       "4  -41.708810  -41.790453  -41.534081           -41.790942  -42.813049   \n",
       "\n",
       "             mll_model  \n",
       "0  stationary_gaussian  \n",
       "1           stationary  \n",
       "2             momentum  \n",
       "3             momentum  \n",
       "4           stationary  "
      ]
     },
     "execution_count": 125,
     "metadata": {},
     "output_type": "execute_result"
    }
   ],
   "source": [
    "model_comparison.results_dataframe.head()"
   ]
  },
  {
   "cell_type": "markdown",
   "id": "4df50f85-e2c4-46d1-9452-5f70fe6e41b0",
   "metadata": {
    "tags": []
   },
   "source": [
    "## get trajectories"
   ]
  },
  {
   "cell_type": "code",
   "execution_count": 129,
   "id": "44390977-fa44-478a-b596-34ed6e29ba70",
   "metadata": {
    "tags": []
   },
   "outputs": [],
   "source": [
    "# get index of replay classified ripples\n",
    "traj_indx = np.where(model_comparison.results_dataframe[\"mll_model\"].isin(['momentum', 'diffusion']))[0]\n",
    "# get ripple indices that are not classified\n",
    "nan_indx = np.where(model_comparison.results_dataframe[\"mll_model\"].isna())[0]\n",
    "# correct index when inserting\n",
    "correction = list(range(0,len(nan_indx)))"
   ]
  },
  {
   "cell_type": "code",
   "execution_count": 130,
   "id": "8b8df1bb-9fc5-4ff8-933e-79d2abe04964",
   "metadata": {
    "tags": []
   },
   "outputs": [],
   "source": [
    "sd_meters = diffusion_result.marginalization_info['best_fit_gridsearch_params']['sd_meters']\n",
    "sd_meters_ = np.insert(sd_meters, nan_indx-correction, np.nan)"
   ]
  },
  {
   "cell_type": "code",
   "execution_count": 133,
   "id": "c0c01b7b-2c51-42d6-8c90-8637909f8b09",
   "metadata": {
    "tags": []
   },
   "outputs": [],
   "source": [
    "diff_params_dict = dict(zip(traj_indx, sd_meters_[traj_indx]))"
   ]
  },
  {
   "cell_type": "code",
   "execution_count": 135,
   "id": "6e41f5b8-24e4-4e01-a459-c42c2f650908",
   "metadata": {
    "tags": []
   },
   "outputs": [
    {
     "name": "stderr",
     "output_type": "stream",
     "text": [
      "/home/masha/Documents/Studium/MIT/project/1D/replay_structure/viterbi.py:38: RuntimeWarning: divide by zero encountered in log\n",
      "  np.log(self.params[\"transition_matrix\"][:, :]) + omegas[t - 1]\n"
     ]
    }
   ],
   "source": [
    "trajectory_dict = dict()\n",
    "marginal_dict = dict()\n",
    "for ind in traj_indx:\n",
    "    trajectory = Most_Likely_Trajectories(structure_data, sd_meters_[ind], False).get_most_likely_trajectory(structure_data, ind)\n",
    "    trajectory_dict[ind] = trajectory\n",
    "    marginal = models.Diffusion(structure_data, sd_meters_[ind]).get_spikemat_marginals(ind)\n",
    "    marginal_dict[ind] = marginal"
   ]
  },
  {
   "cell_type": "code",
   "execution_count": 136,
   "id": "3de9da1f-a0d0-4b35-9e73-4085c784de91",
   "metadata": {
    "tags": []
   },
   "outputs": [],
   "source": [
    "trajectory_result_dict = dict(zip(['sd_meters_best_fit', 'most_likely_trajectory', 'marginal'], [diff_params_dict, trajectory_dict, marginal_dict]))"
   ]
  },
  {
   "cell_type": "code",
   "execution_count": null,
   "id": "3d6b8148-3eb3-4187-8d67-755fa1c08f50",
   "metadata": {},
   "outputs": [],
   "source": []
  },
  {
   "cell_type": "code",
   "execution_count": null,
   "id": "af0eb74d-eeb3-4f54-b71a-2db36ff96a1c",
   "metadata": {},
   "outputs": [],
   "source": []
  },
  {
   "cell_type": "code",
   "execution_count": null,
   "id": "6430b90d-6093-4d2f-ab08-4e4b0822646d",
   "metadata": {},
   "outputs": [],
   "source": []
  },
  {
   "cell_type": "code",
   "execution_count": null,
   "id": "317bab4c-a4d1-479e-8beb-ce7b04242e5b",
   "metadata": {},
   "outputs": [],
   "source": []
  },
  {
   "cell_type": "code",
   "execution_count": null,
   "id": "4ae439d2-804e-40d4-9f1e-0fff9edd6060",
   "metadata": {},
   "outputs": [],
   "source": []
  },
  {
   "cell_type": "markdown",
   "id": "1b0d5e5c-e8fa-499b-8b6d-7a91d541ba21",
   "metadata": {},
   "source": [
    "## plot trajectories"
   ]
  },
  {
   "cell_type": "code",
   "execution_count": 140,
   "id": "21c0f9ff-79f9-4754-ad59-42afc17b1e19",
   "metadata": {
    "tags": []
   },
   "outputs": [
    {
     "data": {
      "image/png": "[encoded data removed]",
      "text/plain": [
       "<Figure size 216x216 with 1 Axes>"
      ]
     },
     "metadata": {
      "needs_background": "light"
     },
     "output_type": "display_data"
    }
   ],
   "source": [
    "ripple_index=204\n",
    "marginal_plot = get_marginal_sum(trajectory_result_dict['marginal'][ripple_index])\n",
    "\n",
    "plt.figure(figsize=(3,3))\n",
    "plt.imshow(marginal_plot,aspect='auto', origin='lower', cmap='inferno',vmin=np.log(.001), vmax=np.log(4),interpolation='none')\n",
    "plt.plot(trajectory_result_dict['most_likely_trajectory'][ripple_index], c=\"white\", lw=\"2\")\n",
    "\n",
    "plt.xlabel('time')\n",
    "plt.ylabel('SWR '+str(ripple_index))\n",
    "\n",
    "plt.tight_layout()\n",
    "#plt.savefig('fig/traj169', dpi=500, transparent=True)"
   ]
  },
  {
   "cell_type": "code",
   "execution_count": null,
   "id": "00624c90-4c17-4618-a1d4-951e48484431",
   "metadata": {},
   "outputs": [],
   "source": []
  },
  {
   "cell_type": "code",
   "execution_count": null,
   "id": "f1ff1145-8979-4929-bfd4-c1b8725306e8",
   "metadata": {},
   "outputs": [],
   "source": []
  },
  {
   "cell_type": "code",
   "execution_count": null,
   "id": "fd7afa7d-ceb2-4266-ab77-ae7953e5ec09",
   "metadata": {},
   "outputs": [],
   "source": []
  },
  {
   "cell_type": "code",
   "execution_count": null,
   "id": "761a3810-21f2-426b-acb2-15814d54b4c2",
   "metadata": {},
   "outputs": [],
   "source": []
  }
 ],
 "metadata": {
  "kernelspec": {
   "display_name": "Python 3",
   "language": "python",
   "name": "python3"
  },
  "language_info": {
   "codemirror_mode": {
    "name": "ipython",
    "version": 3
   },
   "file_extension": ".py",
   "mimetype": "text/x-python",
   "name": "python",
   "nbconvert_exporter": "python",
   "pygments_lexer": "ipython3",
   "version": "3.10.6"
  },
  "widgets": {
   "application/vnd.jupyter.widget-state+json": {
    "state": {},
    "version_major": 2,
    "version_minor": 0
   }
  }
 },
 "nbformat": 4,
 "nbformat_minor": 5
}

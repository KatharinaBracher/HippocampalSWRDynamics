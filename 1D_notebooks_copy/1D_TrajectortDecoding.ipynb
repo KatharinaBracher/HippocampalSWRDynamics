{
 "cells": [
  {
   "cell_type": "code",
   "execution_count": 1,
   "id": "cbb36f5b-15db-48a1-893c-bdfba561c5f1",
   "metadata": {
    "tags": []
   },
   "outputs": [],
   "source": [
    "import numpy as np\n",
    "import matplotlib.pyplot as plt\n",
    "import importlib\n",
    "import os\n",
    "import pickle\n",
    "import scipy.io as spio\n",
    "import scipy.stats as sp\n",
    "import mat73\n",
    "import seaborn as sns\n",
    "from scipy.special import factorial\n",
    "from scipy.special import logsumexp\n",
    "import pandas as pd\n",
    "from replay_structure.utils import get_marginal_sum"
   ]
  },
  {
   "cell_type": "code",
   "execution_count": 2,
   "id": "276c0f31-fbe0-419f-9329-b74b5dac2a16",
   "metadata": {
    "tags": []
   },
   "outputs": [],
   "source": [
    "from replay_structure.structure_trajectory import Most_Likely_Trajectories\n",
    "import replay_structure.structure_models as models"
   ]
  },
  {
   "cell_type": "code",
   "execution_count": 3,
   "id": "96947d56-f2a9-4096-81d9-e2c4664f46d8",
   "metadata": {},
   "outputs": [],
   "source": [
    "import replay_structure.structure_models_gridsearch as gridsearch\n",
    "from replay_structure.config import (\n",
    "    Structure_Model_Gridsearch_Parameters)\n",
    "from replay_structure.model_comparison import (\n",
    "    Gridsearch_Marginalization,\n",
    "    Model_Comparison,\n",
    ")"
   ]
  },
  {
   "cell_type": "code",
   "execution_count": 4,
   "id": "6e10f447-246c-4a34-8bb0-2015e10b87ed",
   "metadata": {
    "tags": []
   },
   "outputs": [],
   "source": [
    "%load_ext autoreload\n",
    "%autoreload 2"
   ]
  },
  {
   "cell_type": "markdown",
   "id": "c53da6b9-741f-4629-be13-fd0c2b33a466",
   "metadata": {},
   "source": [
    "## load data"
   ]
  },
  {
   "cell_type": "code",
   "execution_count": 5,
   "id": "ea2f6b5c-b66f-4b47-b525-0cb1f40878ca",
   "metadata": {
    "tags": []
   },
   "outputs": [],
   "source": [
    "bin_size_cm=5\n",
    "#time_window_ms=3\n",
    "time_window_ms=15"
   ]
  },
  {
   "cell_type": "code",
   "execution_count": 6,
   "id": "e77e67e9-472d-42db-89a8-f0a5a7aae4c1",
   "metadata": {
    "tags": []
   },
   "outputs": [],
   "source": [
    "RESULTS_PATH = \"/home/katharina/Documents/Studium/MIT/project/1D/results\"\n",
    "filename = RESULTS_PATH+'/structure_analysis_input/Data4Pset_ripples_'+str(bin_size_cm)+'cm_'+str(time_window_ms)+'ms_poisson.obj'\n",
    "filename_run = RESULTS_PATH+'/structure_analysis_input/Data4Pset_fullrun_'+str(bin_size_cm)+'cm_200ms_poisson.obj'\n",
    "filename_run_raw = RESULTS_PATH+'/Data4Pset_full_run_'+str(bin_size_cm)+'cm_200ms_poisson.obj'"
   ]
  },
  {
   "cell_type": "code",
   "execution_count": 7,
   "id": "64b93e28-6845-4df7-ae83-387be124ce42",
   "metadata": {
    "tags": []
   },
   "outputs": [],
   "source": [
    "with open(filename, \"rb\") as file_object:\n",
    "    raw_data = file_object.read()\n",
    "    structure_data = pickle.loads(raw_data)"
   ]
  },
  {
   "cell_type": "code",
   "execution_count": 8,
   "id": "6c96afcd-19b2-4cb8-a637-cbf0108b4314",
   "metadata": {
    "tags": []
   },
   "outputs": [],
   "source": [
    "with open(filename_run, \"rb\") as file_object:\n",
    "    raw_data = file_object.read()\n",
    "    structure_data_run = pickle.loads(raw_data)"
   ]
  },
  {
   "cell_type": "code",
   "execution_count": 9,
   "id": "4cb056ff-bee3-4259-8f8d-15ea0d540313",
   "metadata": {
    "tags": []
   },
   "outputs": [],
   "source": [
    "with open(filename_run_raw, \"rb\") as file_object:\n",
    "    raw_data = file_object.read()\n",
    "    data_run_raw = pickle.loads(raw_data)"
   ]
  },
  {
   "cell_type": "code",
   "execution_count": 15,
   "id": "5a09d8f3-94ae-4cdf-8cb0-526b5a5d3a4f",
   "metadata": {
    "tags": []
   },
   "outputs": [],
   "source": [
    "# diffusion grid search results\n",
    "dif_sd_meters = np.array([1.31, 0.56, 2.32, 0.85, 0.27, 0.64, 0.1 , 0.31, 1.14, 2.32, 3.09,\n",
    "       0.1 , 2.68, 3.09, 2.32, 0.1 , 0.1 , 0.1 , 0.1 , 4.11, 4.74, 4.11,\n",
    "       2.32, 2.68, 2.32, 0.85, 0.1 , 0.1 , 0.1 , 0.1 , 0.1 , 0.74, 0.1 ,\n",
    "       0.48, 2.32, 2.01, 1.14, 0.1 , 0.85, 1.74, 2.32, 0.1 , 4.74, 4.11,\n",
    "       0.1 , 0.1 , 1.31, 1.51, 2.32, 0.1 , 0.98, 0.24, 6.31, 2.68, 0.1 ,\n",
    "       1.31, 0.1 , 1.31, 0.56, 5.47, 0.48, 3.09, 0.98, 0.1 , 3.56, 0.1 ,\n",
    "       0.56, 1.74, 2.01, 0.1 , 0.98, 2.32, 0.56, 0.2 , 0.42, 0.85, 0.1 ,\n",
    "       1.14, 1.14, 0.1 , 6.31, 2.01, 0.98, 6.31, 4.74, 0.64, 0.36, 1.31,\n",
    "       1.74, 0.1 , 3.56, 0.1 , 0.1 , 0.1 , 0.1 , 0.85, 1.31, 1.51, 1.74,\n",
    "       1.51, 0.74, 3.09, 0.1 , 1.51, 0.98, 0.1 , 1.74, 0.1 , 3.56, 1.31,\n",
    "       0.1 , 1.74, 0.1 , 0.1 , 0.64, 1.51, 1.74, 0.24, 2.01, 0.48, 1.51,\n",
    "       0.1 , 0.1 , 0.85, 0.1 , 0.2 , 0.56, 6.31, 0.56, 0.98, 6.31, 2.32,\n",
    "       6.31, 0.1 , 0.24, 2.68, 1.31, 0.48, 1.74, 1.14, 0.1 , 0.56, 1.14,\n",
    "       0.1 , 0.1 , 1.31, 1.74, 3.09, 0.1 , 0.98, 6.31, 0.42, 2.01, 0.1 ,\n",
    "       3.56, 2.68, 1.74, 3.56, 0.1 , 0.1 , 0.1 , 0.15, 0.1 , 0.1 , 0.1 ,\n",
    "       0.1 , 0.1 , 6.31, 2.01, 1.31, 0.74, 0.98, 0.1 , 0.74, 2.32, 6.31,\n",
    "       0.1 , 0.98, 1.51, 0.1 , 1.74, 0.31, 0.98, 0.1 , 0.1 , 1.74, 0.1 ,\n",
    "       3.56, 0.1 , 1.51, 6.31, 0.36, 0.18, 3.56, 0.56, 0.85, 1.74, 1.74,\n",
    "       0.1 , 0.1 , 0.42, 0.1 , 0.74, 1.74, 1.51, 1.14, 0.42, 3.56, 0.42,\n",
    "       1.31, 0.1 , 1.31, 0.1 , 1.51, 1.14, 1.31, 2.01, 1.51, 0.85, 0.1 ,\n",
    "       1.14, 2.32, 0.1 , 2.32, 0.56, 2.32, 0.1 , 0.48, 0.1 , 0.1 , 1.14,\n",
    "       0.1 , 0.1 , 0.1 , 0.56, 0.24, 3.56, 0.1 , 0.1 , 2.01, 2.01, 1.14,\n",
    "       1.74, 0.15, 1.74, 3.09, 0.56, 0.1 , 1.14, 2.01, 1.51, 6.31, 1.51,\n",
    "       0.31, 6.31, 2.32, 0.1 , 0.1 , 0.48, 0.1 , 0.64, 0.1 , 0.1 , 0.1 ,\n",
    "       0.74, 0.1 , 3.09, 0.1 , 0.1 , 0.1 , 0.1 , 0.1 , 0.1 , 0.56, 0.1 ,\n",
    "       2.01, 0.1 , 1.14, 0.1 , 0.31, 0.36, 0.42, 0.1 , 1.51, 0.1 , 0.2 ,\n",
    "       0.36, 4.74, 6.31, 0.1 , 6.31, 1.14, 6.31, 0.1 ])"
   ]
  },
  {
   "cell_type": "markdown",
   "id": "4df50f85-e2c4-46d1-9452-5f70fe6e41b0",
   "metadata": {
    "tags": []
   },
   "source": [
    "## get trajectories"
   ]
  },
  {
   "cell_type": "code",
   "execution_count": 64,
   "id": "e95035e7-e4af-42ee-ba2f-fc87e5a6b0c2",
   "metadata": {
    "tags": []
   },
   "outputs": [],
   "source": [
    "index = 277"
   ]
  },
  {
   "cell_type": "code",
   "execution_count": 65,
   "id": "4d95a1b0-f681-4079-b387-9498450f8d7b",
   "metadata": {
    "tags": []
   },
   "outputs": [],
   "source": [
    "sd_meters = dif_sd_meters[index-2]"
   ]
  },
  {
   "cell_type": "code",
   "execution_count": 66,
   "id": "6e41f5b8-24e4-4e01-a459-c42c2f650908",
   "metadata": {
    "collapsed": true,
    "jupyter": {
     "outputs_hidden": true
    },
    "tags": []
   },
   "outputs": [
    {
     "name": "stdout",
     "output_type": "stream",
     "text": [
      "Getting most likely trajectories\n",
      "0\n",
      "1\n",
      "2\n",
      "3\n",
      "4\n",
      "5\n",
      "6\n",
      "7\n",
      "8\n",
      "9\n",
      "10\n",
      "11\n",
      "12\n",
      "13\n",
      "14\n",
      "15\n",
      "16\n",
      "17\n",
      "18\n",
      "19\n",
      "20\n",
      "21\n",
      "22\n",
      "23\n",
      "24\n",
      "25\n",
      "26\n",
      "27\n",
      "28\n",
      "29\n",
      "30\n",
      "31\n",
      "32\n",
      "33\n",
      "34\n",
      "35\n",
      "36\n",
      "37\n",
      "38\n",
      "39\n",
      "40\n",
      "41\n",
      "42\n",
      "43\n",
      "44\n",
      "45\n",
      "46\n",
      "47\n",
      "48\n",
      "49\n",
      "50\n",
      "51\n",
      "52\n",
      "53\n",
      "54\n",
      "55\n",
      "56\n",
      "57\n",
      "58\n",
      "59\n",
      "60\n",
      "61\n",
      "62\n",
      "63\n",
      "64\n",
      "65\n",
      "66\n",
      "67\n",
      "68\n",
      "69\n",
      "70\n",
      "71\n",
      "72\n",
      "73\n",
      "74\n",
      "75\n",
      "76\n",
      "77\n",
      "78\n",
      "79\n",
      "80\n",
      "81\n",
      "82\n",
      "83\n",
      "84\n",
      "85\n",
      "86\n",
      "87\n",
      "88\n",
      "89\n",
      "90\n",
      "91\n",
      "92\n",
      "93\n",
      "94\n",
      "95\n",
      "96\n",
      "97\n",
      "98\n",
      "99\n",
      "100\n",
      "101\n",
      "102\n",
      "103\n",
      "104\n",
      "105\n",
      "106\n",
      "107\n",
      "108\n",
      "109\n",
      "110\n",
      "111\n",
      "112\n",
      "113\n",
      "114\n",
      "115\n",
      "116\n",
      "117\n",
      "118\n",
      "119\n",
      "120\n",
      "121\n",
      "122\n",
      "123\n",
      "124\n",
      "125\n",
      "126\n",
      "127\n",
      "128\n",
      "129\n",
      "130\n",
      "131\n",
      "132\n",
      "133\n",
      "134\n",
      "135\n",
      "136\n",
      "137\n",
      "138\n",
      "139\n",
      "140\n",
      "141\n",
      "142\n",
      "143\n",
      "144\n",
      "145\n",
      "146\n",
      "147\n",
      "148\n",
      "149\n",
      "150\n",
      "151\n",
      "152\n",
      "153\n",
      "154\n",
      "155\n",
      "156\n",
      "157\n",
      "158\n",
      "159\n",
      "160\n",
      "161\n",
      "162\n",
      "163\n",
      "164\n",
      "165\n",
      "166\n",
      "167\n",
      "168\n",
      "169\n",
      "170\n",
      "171\n",
      "172\n",
      "173\n",
      "174\n",
      "175\n",
      "176\n",
      "177\n",
      "178\n",
      "179\n",
      "180\n",
      "181\n",
      "182\n",
      "183\n",
      "184\n",
      "185\n",
      "186\n",
      "187\n",
      "188\n",
      "189\n",
      "190\n",
      "191\n",
      "192\n",
      "193\n",
      "194\n",
      "195\n",
      "196\n",
      "197\n",
      "198\n",
      "199\n",
      "200\n",
      "201\n",
      "202\n",
      "203\n",
      "204\n",
      "205\n",
      "206\n",
      "207\n",
      "208\n",
      "209\n",
      "210\n",
      "211\n",
      "212\n",
      "213\n",
      "214\n",
      "215\n",
      "216\n",
      "217\n",
      "218\n",
      "219\n",
      "220\n",
      "221\n",
      "222\n",
      "223\n",
      "224\n",
      "225\n",
      "226\n",
      "227\n",
      "228\n",
      "229\n",
      "230\n",
      "231\n",
      "232\n",
      "233\n",
      "234\n",
      "235\n",
      "236\n",
      "237\n",
      "238\n",
      "239\n",
      "240\n",
      "241\n",
      "242\n",
      "243\n",
      "244\n",
      "245\n",
      "246\n",
      "247\n",
      "248\n",
      "249\n",
      "250\n",
      "251\n",
      "252\n",
      "253\n",
      "254\n",
      "255\n",
      "256\n",
      "257\n",
      "258\n",
      "259\n",
      "260\n",
      "261\n",
      "262\n",
      "263\n",
      "264\n",
      "265\n",
      "266\n",
      "267\n",
      "268\n",
      "269\n",
      "270\n",
      "271\n",
      "272\n",
      "273\n",
      "274\n",
      "275\n",
      "276\n",
      "277\n",
      "278\n",
      "279\n",
      "280\n",
      "281\n",
      "282\n",
      "283\n",
      "284\n",
      "285\n",
      "286\n",
      "287\n",
      "288\n",
      "289\n",
      "290\n",
      "291\n",
      "292\n",
      "293\n",
      "294\n",
      "295\n"
     ]
    }
   ],
   "source": [
    "trajectory_results = Most_Likely_Trajectories(structure_data, sd_meters)"
   ]
  },
  {
   "cell_type": "code",
   "execution_count": 67,
   "id": "21c0f9ff-79f9-4754-ad59-42afc17b1e19",
   "metadata": {
    "tags": []
   },
   "outputs": [
    {
     "data": {
      "image/png": "[encoded data removed]",
      "text/plain": [
       "<Figure size 216x216 with 1 Axes>"
      ]
     },
     "metadata": {
      "needs_background": "light"
     },
     "output_type": "display_data"
    }
   ],
   "source": [
    "# marginal = models.Momentum(structure_data, 1, 90, 80, plotting=True).get_spikemat_marginals(index)\n",
    "marginal = models.Diffusion(structure_data, sd_meters).get_spikemat_marginals(index)\n",
    "\n",
    "marginal_plot = get_marginal_sum(marginal)\n",
    "\n",
    "plt.figure(figsize=(3,3))\n",
    "plt.imshow(marginal_plot,aspect='auto', origin='lower', cmap='inferno',vmin=np.log(.001), vmax=np.log(4),interpolation='none')\n",
    "plt.plot(trajectory_results.most_likely_trajectories[index], c=\"white\", lw=\"2\")\n",
    "plt.yticks([])\n",
    "plt.xlabel('time')\n",
    "plt.ylabel('SWR '+str(index))\n",
    "\n",
    "plt.tight_layout()\n",
    "plt.savefig('fig/traj277', dpi=500, transparent=True)"
   ]
  },
  {
   "cell_type": "code",
   "execution_count": null,
   "id": "49dda8c0-c6ab-4d8b-b139-47ab0d47602d",
   "metadata": {},
   "outputs": [],
   "source": [
    "\n"
   ]
  },
  {
   "cell_type": "markdown",
   "id": "3561b1c4-e7e3-44c5-a4d8-87ef71e7c672",
   "metadata": {},
   "source": [
    "# run"
   ]
  },
  {
   "cell_type": "code",
   "execution_count": 15,
   "id": "50b14ef2-3b7b-4452-90a3-d5e03f22f8cd",
   "metadata": {},
   "outputs": [],
   "source": [
    "spikemat_ind = 12"
   ]
  },
  {
   "cell_type": "code",
   "execution_count": 16,
   "id": "4edc080a-1672-4179-9376-1503c45212ea",
   "metadata": {
    "collapsed": true,
    "jupyter": {
     "outputs_hidden": true
    },
    "tags": []
   },
   "outputs": [
    {
     "name": "stdout",
     "output_type": "stream",
     "text": [
      "sd = 0.016\n",
      "[-2835.09761588 -4517.1231161  -8265.72906406 -4218.56395024\n",
      " -3061.2361368 ]\n",
      "sd = 0.018\n",
      "[-2821.31211181 -4269.01567137 -7798.24575917 -3935.26101692\n",
      " -2807.48972487]\n",
      "sd = 0.021\n",
      "[-2793.42379115 -4048.32575394 -7413.53411197 -3703.79486676\n",
      " -2613.55696982]\n",
      "sd = 0.024\n",
      "[-2772.4639321  -3758.64417379 -7086.58367116 -3507.58904495\n",
      " -2456.54078304]\n",
      "sd = 0.028\n",
      "[-2550.65056074 -3511.51917592 -6814.88722315 -3355.20470726\n",
      " -2323.42005372]\n",
      "sd = 0.032\n",
      "[-2344.68578929 -3310.60525089 -6593.67490044 -3236.98362416\n",
      " -2217.15441676]\n",
      "sd = 0.037\n",
      "[-2183.76906568 -3150.49478799 -6413.20360399 -3144.03203764\n",
      " -2133.85233269]\n",
      "sd = 0.043\n",
      "[-2061.92779872 -3029.70224    -6272.29425748 -3068.80539863\n",
      " -2068.02708382]\n",
      "sd = 0.05\n",
      "[-1970.80635792 -2940.25993073 -6166.39059106 -3005.21593994\n",
      " -2017.47845932]\n",
      "sd = 0.057\n",
      "[-1903.06448675 -2874.41430643 -6086.65109176 -2956.32302944\n",
      " -1980.22427801]\n",
      "sd = 0.066\n",
      "[-1852.70408439 -2825.79597023 -6024.63260818 -2919.24741275\n",
      " -1953.02218125]\n",
      "sd = 0.076\n",
      "[-1815.02238815 -2789.5895689  -5972.06684998 -2890.56289646\n",
      " -1933.010876  ]\n",
      "sd = 0.088\n",
      "[-1786.84793223 -2762.80781727 -5930.53769827 -2867.78435848\n",
      " -1918.35391091]\n",
      "sd = 0.1\n",
      "[-1765.96060005 -2743.44100178 -5894.34234709 -2849.63948205\n",
      " -1907.87528554]\n",
      "sd = 0.12\n",
      "[-1750.70555751 -2729.98862958 -5864.1158409  -2835.4276203\n",
      " -1900.73936104]\n",
      "sd = 0.14\n",
      "[-1739.85647631 -2721.3052824  -5839.75838007 -2825.08625578\n",
      " -1896.3120538 ]\n",
      "sd = 0.16\n",
      "[-1732.45981209 -2716.50441734 -5822.41546999 -2818.30621475\n",
      " -1894.10077947]\n",
      "sd = 0.18\n",
      "[-1727.70703511 -2714.87770282 -5811.09116535 -2814.58956984\n",
      " -1893.7198743 ]\n",
      "sd = 0.21\n",
      "[-1724.88940564 -2715.83509177 -5802.28508905 -2813.3784185\n",
      " -1894.86876045]\n",
      "sd = 0.24\n",
      "[-1723.30180866 -2718.86937468 -5789.34358579 -2814.21861003\n",
      " -1897.31248946]\n",
      "sd = 0.28\n",
      "[-1722.31957509 -2723.53878763 -5780.38231249 -2816.71539478\n",
      " -1900.86047509]\n",
      "sd = 0.32\n",
      "[-1722.11864341 -2729.04261828 -5775.30662272 -2820.55896835\n",
      " -1905.34721896]\n",
      "sd = 0.37\n",
      "[-1722.692737   -2732.66295939 -5772.38817967 -2825.61247526\n",
      " -1910.62095247]\n",
      "sd = 0.42\n",
      "[-1723.91394797 -2736.82132165 -5772.13203338 -2831.81345522\n",
      " -1916.53946875]\n",
      "sd = 0.49\n",
      "[-1725.834026   -2741.48335564 -5775.18738376 -2839.05075475\n",
      " -1922.96925075]\n",
      "sd = 0.56\n",
      "[-1728.27849076 -2746.54109048 -5780.78935558 -2847.15622278\n",
      " -1929.78666053]\n",
      "sd = 0.65\n",
      "[-1729.55625182 -2752.32574723 -5789.07262056 -2855.93708161\n",
      " -1936.88054781]\n",
      "sd = 0.75\n",
      "[-1730.37801041 -2758.78664837 -5799.66125182 -2865.20018794\n",
      " -1944.1543026 ]\n",
      "sd = 0.87\n",
      "[-1731.96485695 -2765.92882888 -5809.29147797 -2874.76614202\n",
      " -1951.52548322]\n",
      "sd = 1.0\n",
      "[-1734.15503648 -2773.69518295 -5820.75210581 -2884.47804358\n",
      " -1958.92116204]\n",
      "13\n",
      "(13, 30) (30,)\n"
     ]
    },
    {
     "name": "stderr",
     "output_type": "stream",
     "text": [
      "/home/katharina/anaconda3/envs/test_enviornment1/lib/python3.9/site-packages/scipy/stats/_distn_infrastructure.py:2494: RuntimeWarning: invalid value encountered in double_scalars\n",
      "  Lhat = muhat - Shat*mu\n",
      "/home/katharina/Documents/Studium/MIT/project/1D/replay_structure/model_comparison.py:233: RuntimeWarning: divide by zero encountered in log\n",
      "  self.gridsearch_results + np.log(sd_prior_normalized), axis=1\n"
     ]
    }
   ],
   "source": [
    "params = Structure_Model_Gridsearch_Parameters.run_diffusion_params()\n",
    "# np.logspace(-1.8, 0, 30))\n",
    "diffusion_gridsearch = gridsearch.Diffusion(structure_data_run, params)\n",
    "dif_marginalized_gridsearch = Gridsearch_Marginalization(diffusion_gridsearch)\n",
    "dif_sd_meters_run = dif_marginalized_gridsearch.marginalization_info[\"best_fit_gridsearch_params\"][\"sd_meters\"]"
   ]
  },
  {
   "cell_type": "code",
   "execution_count": 17,
   "id": "c37f15ac-7c2b-4d50-a490-d410ba35c603",
   "metadata": {},
   "outputs": [
    {
     "data": {
      "text/plain": [
       "(array([8., 1., 2., 0., 1., 0., 0., 0., 0., 1.]),\n",
       " array([0.1559924 , 0.21553158, 0.27507077, 0.33460995, 0.39414913,\n",
       "        0.45368831, 0.51322749, 0.57276667, 0.63230586, 0.69184504,\n",
       "        0.75138422]),\n",
       " <BarContainer object of 10 artists>)"
      ]
     },
     "execution_count": 17,
     "metadata": {},
     "output_type": "execute_result"
    },
    {
     "data": {
      "image/png": "[encoded data removed]",
      "text/plain": [
       "<Figure size 144x144 with 1 Axes>"
      ]
     },
     "metadata": {
      "needs_background": "light"
     },
     "output_type": "display_data"
    }
   ],
   "source": [
    "plt.figure(figsize=(2,2))\n",
    "plt.hist(dif_sd_meters_run)"
   ]
  },
  {
   "cell_type": "code",
   "execution_count": 18,
   "id": "82c6c30c-d99e-4f62-bd8f-42e4a14f7399",
   "metadata": {
    "tags": []
   },
   "outputs": [
    {
     "name": "stdout",
     "output_type": "stream",
     "text": [
      "Getting most likely trajectories\n",
      "0\n",
      "1\n",
      "2\n",
      "3\n",
      "4\n",
      "5\n",
      "6\n",
      "7\n",
      "8\n",
      "9\n",
      "10\n",
      "11\n",
      "12\n"
     ]
    }
   ],
   "source": [
    "sd_meters_run = dif_sd_meters_run[spikemat_ind]\n",
    "trajectory_results_run = Most_Likely_Trajectories(structure_data_run, sd_meters_run)"
   ]
  },
  {
   "cell_type": "code",
   "execution_count": 24,
   "id": "93658c85-16d6-4000-b468-9d1627180372",
   "metadata": {},
   "outputs": [
    {
     "data": {
      "text/plain": [
       "[<matplotlib.lines.Line2D at 0x7fa9804cd0d0>]"
      ]
     },
     "execution_count": 24,
     "metadata": {},
     "output_type": "execute_result"
    },
    {
     "data": {
      "image/png": "[encoded data removed]",
      "text/plain": [
       "<Figure size 720x504 with 1 Axes>"
      ]
     },
     "metadata": {
      "needs_background": "light"
     },
     "output_type": "display_data"
    }
   ],
   "source": [
    "marginal = models.Diffusion(structure_data_run, sd_meters_run).get_spikemat_marginals(spikemat_ind)\n",
    "marginal_plot = get_marginal_sum(marginal)\n",
    "plt.figure(figsize=(10,7))\n",
    "plt.imshow(marginal_plot,\n",
    "           aspect='auto', origin='lower', cmap='inferno',vmin=np.log(.001), vmax=np.log(4))\n",
    "plt.plot(trajectory_results_run.most_likely_trajectories[spikemat_ind], c=\"white\", lw=\"1\")\n",
    "t = np.linspace(0 , marginal.shape[1], data_run_raw.run_info['true_trajectories_cm'][spikemat_ind].shape[0])\n",
    "plt.plot(t, data_run_raw.run_info['true_trajectories_cm'][spikemat_ind]/5)"
   ]
  },
  {
   "cell_type": "code",
   "execution_count": null,
   "id": "8df13898-d234-483d-bec3-ed2868ba89b3",
   "metadata": {},
   "outputs": [],
   "source": []
  },
  {
   "cell_type": "code",
   "execution_count": null,
   "id": "d16d7382-49c6-47ad-81d3-9e3d9636366e",
   "metadata": {},
   "outputs": [],
   "source": []
  },
  {
   "cell_type": "code",
   "execution_count": null,
   "id": "d93a8f5c-b9c9-4a4b-a513-4587020b6540",
   "metadata": {},
   "outputs": [],
   "source": []
  }
 ],
 "metadata": {
  "kernelspec": {
   "display_name": "Python 3",
   "language": "python",
   "name": "python3"
  },
  "language_info": {
   "codemirror_mode": {
    "name": "ipython",
    "version": 3
   },
   "file_extension": ".py",
   "mimetype": "text/x-python",
   "name": "python",
   "nbconvert_exporter": "python",
   "pygments_lexer": "ipython3",
   "version": "3.9.16"
  }
 },
 "nbformat": 4,
 "nbformat_minor": 5
}

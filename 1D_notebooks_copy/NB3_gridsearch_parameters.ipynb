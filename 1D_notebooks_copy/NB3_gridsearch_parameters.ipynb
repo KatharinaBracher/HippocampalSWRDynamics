{
 "cells": [
  {
   "cell_type": "code",
   "execution_count": 1,
   "id": "effcc340-7656-40bf-a1a6-851ff9600766",
   "metadata": {
    "tags": []
   },
   "outputs": [],
   "source": [
    "import numpy as np\n",
    "import matplotlib.pyplot as plt\n",
    "import importlib\n",
    "import os\n",
    "import pickle\n",
    "import scipy.io as spio\n",
    "import scipy.stats as sp\n",
    "import mat73\n",
    "import seaborn as sns\n",
    "from scipy.special import factorial\n",
    "from scipy.special import logsumexp\n",
    "import matplotlib\n",
    "import pandas as pd\n",
    "\n",
    "from scipy import stats"
   ]
  },
  {
   "cell_type": "code",
   "execution_count": 2,
   "id": "192552da-be1f-4313-b312-f4cbabb3123b",
   "metadata": {
    "tags": []
   },
   "outputs": [],
   "source": [
    "%load_ext autoreload\n",
    "%autoreload 2"
   ]
  },
  {
   "cell_type": "code",
   "execution_count": 3,
   "id": "8177c411-a7a0-4e59-a311-4079e699b4e6",
   "metadata": {
    "tags": []
   },
   "outputs": [],
   "source": [
    "import replay_structure.structure_models as models\n",
    "from replay_structure.run_snippet_preprocessing import Run_Snippet_Preprocessing\n",
    "import replay_structure.metadata as meta\n",
    "from replay_structure.utils import get_marginal_sum, get_p_models\n",
    "\n",
    "from replay_structure.metadata import (\n",
    "    Likelihood_Function,\n",
    "    Model,\n",
    "    Diffusion,\n",
    "    Momentum,\n",
    "    Stationary,\n",
    "    Stationary_Gaussian,\n",
    "    Random,\n",
    "    Data_Type,\n",
    "    string_to_data_type,\n",
    "    string_to_model,\n",
    "    Session_Indicator,\n",
    "    string_to_session_indicator,\n",
    "    string_to_likelihood_function,\n",
    ")"
   ]
  },
  {
   "cell_type": "markdown",
   "id": "f79de4d2-f167-442b-bb55-d8557783aeee",
   "metadata": {},
   "source": [
    "## load gridsearch results and model comparison"
   ]
  },
  {
   "cell_type": "code",
   "execution_count": 4,
   "id": "f3e3c324-1092-4e47-9af3-8fd2112a18b5",
   "metadata": {
    "tags": []
   },
   "outputs": [],
   "source": [
    "bin_size_cm=5\n",
    "time_window_ms=15"
   ]
  },
  {
   "cell_type": "code",
   "execution_count": 5,
   "id": "51a6e443-3cfe-495d-87e0-399d15a1c790",
   "metadata": {
    "tags": []
   },
   "outputs": [],
   "source": [
    "DATA_PATH = \"/home/katharina/Documents/Studium/MIT/project/1D/results\"\n",
    "filename = DATA_PATH+'/structure_analysis_input/Data4Pset_ripples_'+str(bin_size_cm)+'cm_'+str(time_window_ms)+'ms_poisson.obj'\n"
   ]
  },
  {
   "cell_type": "code",
   "execution_count": 6,
   "id": "23c9e1b5-15f3-4031-93f1-4ecd127d76be",
   "metadata": {
    "tags": []
   },
   "outputs": [],
   "source": [
    "with open(filename, \"rb\") as file_object:\n",
    "    raw_data = file_object.read()\n",
    "    structure_data = pickle.loads(raw_data)"
   ]
  },
  {
   "cell_type": "markdown",
   "id": "e0e362ff-3b43-4c91-ba69-26b9945452ce",
   "metadata": {},
   "source": [
    "## grid search parameters"
   ]
  },
  {
   "cell_type": "code",
   "execution_count": 60,
   "id": "86052b55-e057-4a56-86f1-f9f0ba11d77d",
   "metadata": {},
   "outputs": [],
   "source": [
    "sg_index = mc_results.results_dataframe.index[mc_results.results_dataframe['mll_model'] == 'stationary_gaussian'].tolist()\n",
    "sg_sd = sg_marginalized_gridsearch.marginalization_info[\"best_fit_gridsearch_params\"]['sd_meters'][sg_index]\n",
    "\n",
    "sd_array_meters_sg = np.logspace(-2, 0.3, 30).round(2)"
   ]
  },
  {
   "cell_type": "code",
   "execution_count": 62,
   "id": "cb5b2343-6076-4c5e-8212-dbc0e3362504",
   "metadata": {},
   "outputs": [
    {
     "data": {
      "image/png": "[encoded data removed]",
      "text/plain": [
       "<Figure size 432x288 with 1 Axes>"
      ]
     },
     "metadata": {
      "needs_background": "light"
     },
     "output_type": "display_data"
    }
   ],
   "source": [
    "plt.figure()\n",
    "plt.hist(sg_sd, bins=sd_array_meters_sg)\n",
    "plt.show()"
   ]
  },
  {
   "cell_type": "code",
   "execution_count": 222,
   "id": "471a240f-bc67-4ff5-a2b3-d537278b1cb6",
   "metadata": {},
   "outputs": [],
   "source": [
    "diff_index = mc_results.results_dataframe.index[mc_results.results_dataframe['mll_model'] == 'diffusion'].tolist()\n",
    "diff_sd = dif_marginalized_gridsearch.marginalization_info[\"best_fit_gridsearch_params\"]['sd_meters'][diff_index]\n",
    "\n",
    "array_meters_diff = np.logspace(-1, 0.8, 30).round(2)"
   ]
  },
  {
   "cell_type": "code",
   "execution_count": 226,
   "id": "a504b126-052d-401c-9dbb-ec7f07c3e6aa",
   "metadata": {
    "tags": []
   },
   "outputs": [
    {
     "data": {
      "text/plain": [
       "(294,)"
      ]
     },
     "execution_count": 226,
     "metadata": {},
     "output_type": "execute_result"
    }
   ],
   "source": [
    "dif_marginalized_gridsearch.marginalization_info[\"best_fit_gridsearch_params\"]['sd_meters'].shape"
   ]
  },
  {
   "cell_type": "code",
   "execution_count": 63,
   "id": "9a5a4486-1eba-495e-9f7f-40ad50ac88f5",
   "metadata": {},
   "outputs": [
    {
     "data": {
      "image/png": "[encoded data removed]",
      "text/plain": [
       "<Figure size 432x288 with 1 Axes>"
      ]
     },
     "metadata": {
      "needs_background": "light"
     },
     "output_type": "display_data"
    }
   ],
   "source": [
    "plt.figure()\n",
    "plt.hist(diff_sd, bins=array_meters_diff)\n",
    "plt.show()"
   ]
  },
  {
   "cell_type": "code",
   "execution_count": 54,
   "id": "2ed5b4ec-b9ec-4f16-8c96-b54d918062b2",
   "metadata": {
    "tags": []
   },
   "outputs": [],
   "source": [
    "mom_index = mc_results.results_dataframe.index[mc_results.results_dataframe['mll_model'] == 'momentum'].tolist()\n",
    "\n",
    "mom_decay = mom_marginalized_gridsearch.marginalization_info[\"best_fit_gridsearch_params\"]['decay'][mom_index]\n",
    "decay_array=np.array([1, 25, 50, 75, 100, 200, 300, 400, 500, 800])\n",
    "\n",
    "mom_sd = mom_marginalized_gridsearch.marginalization_info[\"best_fit_gridsearch_params\"]['sd_meters'][mom_index]\n",
    "sd_array_meters=np.logspace(1.6, 2.6, 30).round(2)"
   ]
  },
  {
   "cell_type": "code",
   "execution_count": 47,
   "id": "7253d1c1-8b7a-4aad-973a-9de572363e49",
   "metadata": {},
   "outputs": [
    {
     "data": {
      "text/plain": [
       "array([ 25,  25,  50,  75,  25,  75,   1,   1,   1,   1,  25,  50,  50,\n",
       "        50,  75,  25, 300,   1, 100,   1,   1,  25,  25,  50,  50,   1,\n",
       "         1,  50,   1,   1,  25, 200,  75, 800,   1,  50,  50, 800,  50,\n",
       "         1,   1,   1,   1, 800,  75,  50, 200,  50,   1, 400,   1,   1,\n",
       "         1,   1,  25,  75,  75,   1, 800,   1,   1, 800,   1,   1,   1,\n",
       "         1, 500,   1,   1,  25,   1, 800,   1, 800, 800,   1, 200, 800,\n",
       "       200,   1,   1,   1, 500, 800,  75, 800,  25,  50,   1,  25,   1,\n",
       "       400,  50,   1,   1, 300,   1,   1, 500,  50, 800,  25,   1, 800,\n",
       "       800, 800, 800, 800, 300, 800, 500])"
      ]
     },
     "execution_count": 47,
     "metadata": {},
     "output_type": "execute_result"
    }
   ],
   "source": [
    "mom_decay"
   ]
  },
  {
   "cell_type": "code",
   "execution_count": 57,
   "id": "e85378ca-3e58-4367-8934-98e65a9164a3",
   "metadata": {},
   "outputs": [
    {
     "data": {
      "image/png": "[encoded data removed]",
      "text/plain": [
       "<Figure size 432x288 with 1 Axes>"
      ]
     },
     "metadata": {
      "needs_background": "light"
     },
     "output_type": "display_data"
    }
   ],
   "source": [
    "plt.figure()\n",
    "plt.hist(mom_decay, bins=decay_array)\n",
    "plt.show()"
   ]
  },
  {
   "cell_type": "code",
   "execution_count": 58,
   "id": "e987de0a-d2b3-4603-99b0-338e9ead57c3",
   "metadata": {},
   "outputs": [
    {
     "data": {
      "image/png": "[encoded data removed]",
      "text/plain": [
       "<Figure size 432x288 with 1 Axes>"
      ]
     },
     "metadata": {
      "needs_background": "light"
     },
     "output_type": "display_data"
    }
   ],
   "source": [
    "plt.figure()\n",
    "plt.hist(mom_sd, bins=sd_array_meters)\n",
    "plt.show()"
   ]
  }
 ],
 "metadata": {
  "kernelspec": {
   "display_name": "Python 3",
   "language": "python",
   "name": "python3"
  },
  "language_info": {
   "codemirror_mode": {
    "name": "ipython",
    "version": 3
   },
   "file_extension": ".py",
   "mimetype": "text/x-python",
   "name": "python",
   "nbconvert_exporter": "python",
   "pygments_lexer": "ipython3",
   "version": "3.10.6"
  }
 },
 "nbformat": 4,
 "nbformat_minor": 5
}

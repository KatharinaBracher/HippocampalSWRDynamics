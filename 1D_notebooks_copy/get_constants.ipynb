{
 "cells": [
  {
   "cell_type": "code",
   "execution_count": 2,
   "id": "6f5bfbce-97e4-4b65-8fc4-3266370bc1b2",
   "metadata": {
    "tags": []
   },
   "outputs": [],
   "source": [
    "import numpy as np\n",
    "import os\n",
    "import matplotlib.pyplot as plt\n",
    "import matplotlib\n",
    "import pandas as pd\n",
    "import matplotlib.gridspec as gridspec\n",
    "\n",
    "import replay_structure.structure_models as models\n",
    "import replay_structure.metadata as meta\n",
    "import replay_structure.read_write as read_write\n",
    "import replay_structure.utils as utils\n",
    "\n",
    "import importlib\n",
    "\n",
    "import pickle"
   ]
  },
  {
   "cell_type": "code",
   "execution_count": null,
   "id": "a38d8799-b8e8-422b-afbc-1f74d961bb7a",
   "metadata": {},
   "outputs": [],
   "source": [
    "# ratday_data = dict()\n",
    "# ripple_data = dict()\n",
    "# run_snippet_data_9ms = dict()\n",
    "# run_snippet_data_60ms = dict()\n",
    "# ripple_trajectories = dict()"
   ]
  },
  {
   "cell_type": "markdown",
   "id": "3e97b92a-de1a-499a-ab69-dbe4ecbb2c0f",
   "metadata": {},
   "source": [
    "# SCALING FACTOR"
   ]
  },
  {
   "cell_type": "code",
   "execution_count": 3,
   "id": "5a6ba966-b3b6-45fe-9207-b534863246c5",
   "metadata": {
    "tags": []
   },
   "outputs": [],
   "source": [
    "RESULTS_PATH = \"/home/katharina/Documents/Studium/MIT/project/1D/results\"\n",
    "filename = RESULTS_PATH+'/ripples/Data4Pset_spikemat5.obj'\n",
    "with open(filename, \"rb\") as file_object:\n",
    "    raw_data = file_object.read()\n",
    "    ripple_data = pickle.loads(raw_data)\n",
    "filename = RESULTS_PATH+'/ratday/Data4Pset_ratday5.obj'\n",
    "with open(filename, \"rb\") as file_object:\n",
    "    raw_data = file_object.read()\n",
    "    ratday_data = pickle.loads(raw_data)"
   ]
  },
  {
   "cell_type": "code",
   "execution_count": 5,
   "id": "442885b8-2c52-429e-a8d0-a10789183f86",
   "metadata": {
    "tags": []
   },
   "outputs": [],
   "source": [
    "def find_best_fit_line(run_mean_frs, ripple_mean_frs):\n",
    "    fit = np.linalg.lstsq(run_mean_frs[:,None], ripple_mean_frs)\n",
    "    return fit[0]\n",
    "\n",
    "def find_best_fit_line_alldata(movement_avg_fr_dict, swr_avg_fr_dict):\n",
    "    all_movement = np.array([0])\n",
    "    all_swr = np.array([0])\n",
    "    for i in range(len(movement_avg_fr_dict)):\n",
    "        all_movement = np.append(all_movement, movement_avg_fr_dict[i])\n",
    "        all_swr = np.append(all_swr, swr_avg_fr_dict[i])\n",
    "    return find_best_fit_line(all_movement, all_swr)"
   ]
  },
  {
   "cell_type": "code",
   "execution_count": null,
   "id": "2b7cde20-4b2c-4ee8-88c3-6c4efe3e4f2e",
   "metadata": {},
   "outputs": [],
   "source": [
    "# run_mean_frs = dict()\n",
    "# ripple_mean_frs = dict()\n",
    "# slope_best_fit = np.zeros((meta.N_SESSIONS))\n",
    "# for i, session in enumerate(meta.Session_List):\n",
    "#     run_mean_frs[i] = ratday_data[str(session)].place_field_data[\"mean_firing_rate_array\"][ratday_data[str(session)].place_field_data[\"place_cell_ids\"]]\n",
    "#     ripple_mean_frs[i] = ripple_data[str(session)].ripple_info[\"popburst_mean_firing_rate_array\"]\n",
    "#     slope_best_fit[i] = find_best_fit_line(run_mean_frs[i], ripple_mean_frs[i])\n",
    "    \n",
    "# slope_best_fit_all_data = find_best_fit_line_alldata(run_mean_frs, ripple_mean_frs)"
   ]
  },
  {
   "cell_type": "code",
   "execution_count": 7,
   "id": "13a2013d-7ca7-4cf0-858f-26762d2fc2a6",
   "metadata": {
    "tags": []
   },
   "outputs": [
    {
     "name": "stderr",
     "output_type": "stream",
     "text": [
      "<ipython-input-5-ae6edb7bb1d2>:2: FutureWarning: `rcond` parameter will change to the default of machine precision times ``max(M, N)`` where M and N are the input matrix dimensions.\n",
      "To use the future default and silence this warning we advise to pass `rcond=None`, to keep using the old, explicitly pass `rcond=-1`.\n",
      "  fit = np.linalg.lstsq(run_mean_frs[:,None], ripple_mean_frs)\n"
     ]
    }
   ],
   "source": [
    "run_mean_frs = ratday_data.place_field_data[\"mean_firing_rate_array\"][ratday_data.place_field_data[\"place_cell_ids\"]]\n",
    "ripple_mean_frs = ripple_data.ripple_info[\"popburst_mean_firing_rate_array\"]\n",
    "slope_best_fit = find_best_fit_line(run_mean_frs, ripple_mean_frs)"
   ]
  },
  {
   "cell_type": "code",
   "execution_count": 9,
   "id": "26bfead6-6ee2-46e6-bcd5-3c32dbfbbf61",
   "metadata": {
    "tags": []
   },
   "outputs": [
    {
     "data": {
      "text/plain": [
       "2.5"
      ]
     },
     "execution_count": 9,
     "metadata": {},
     "output_type": "execute_result"
    }
   ],
   "source": [
    "PF_SCALING_FACTOR = slope_best_fit.mean().round(1)\n",
    "PF_SCALING_FACTOR"
   ]
  },
  {
   "cell_type": "markdown",
   "id": "9e83b397-72d4-4510-87a9-f6ced2c13aa1",
   "metadata": {},
   "source": [
    "# MAX LIKELIHOOD SD"
   ]
  },
  {
   "cell_type": "code",
   "execution_count": null,
   "id": "86414c48-1d5e-444b-94be-02ea27a37452",
   "metadata": {},
   "outputs": [],
   "source": [
    "# load gridsearch result"
   ]
  },
  {
   "cell_type": "code",
   "execution_count": null,
   "id": "92e0ad05-2a60-4e92-a525-0cdf007218f5",
   "metadata": {},
   "outputs": [],
   "source": [
    "dif_sd_meters = dif_marginalized_gridsearch.marginalization_info[\"best_fit_gridsearch_params\"][\"sd_meters\"]"
   ]
  },
  {
   "cell_type": "code",
   "execution_count": null,
   "id": "0ee055cb-46c5-4a5c-a3af-21a6b0648418",
   "metadata": {},
   "outputs": [],
   "source": [
    "# mode from diffusion gridsearch on all sessions\n",
    "MAX_LIKELIHOOD_SD_METERS_RIPPLES = stats.mode(dif_sd_meters)\n",
    "MAX_LIKELIHOOD_SD_METERS_RIPPLES"
   ]
  }
 ],
 "metadata": {
  "kernelspec": {
   "display_name": "Python 3",
   "language": "python",
   "name": "python3"
  },
  "language_info": {
   "codemirror_mode": {
    "name": "ipython",
    "version": 3
   },
   "file_extension": ".py",
   "mimetype": "text/x-python",
   "name": "python",
   "nbconvert_exporter": "python",
   "pygments_lexer": "ipython3",
   "version": "3.9.16"
  }
 },
 "nbformat": 4,
 "nbformat_minor": 5
}
